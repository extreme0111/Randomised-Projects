{
  "cells": [
    {
      "cell_type": "markdown",
      "id": "8c409c92",
      "metadata": {
        "id": "8c409c92"
      },
      "source": [
        "## Two Sum\n",
        "\n",
        "Given an array of integers` nums` and an integer `target`, return indices of the two numbers such that they add up to `target`.\n",
        "\n",
        "You may assume that each input would have exactly one solution, and you may not use the same element twice.\n",
        "\n",
        "You can return the answer in any order.\n",
        "\n",
        "**Example 1:**\n",
        "```\n",
        "Input: nums = [2,7,11,15], target = 9\n",
        "Output: [0,1]\n",
        "Explanation: Because nums[0] + nums[1] == 9, we return [0, 1].\n",
        "```\n",
        "\n",
        "**Example 2:**\n",
        "```\n",
        "Input: nums = [3,2,4], target = 6\n",
        "Output: [1,2]\n",
        "```\n",
        "\n",
        "**Constraints:**\n",
        "```\n",
        "2 <= nums.length <= 104\n",
        "-109 <= nums[i] <= 109\n",
        "-109 <= target <= 109\n",
        "Only one valid answer exists.\n",
        "```"
      ]
    },
    {
      "cell_type": "code",
      "source": [
        "nums = [5,8,12,61,1]\n",
        "\n",
        "target = 17\n",
        "\n",
        "def threesum(nums,target):\n",
        "  for i in nums:\n",
        "    no1 = target - i\n",
        "    if no1 in nums:\n",
        "      return nums.index(i), nums.index(no1)\n",
        "\n",
        "\n",
        "def twosum(nums,target):\n",
        "  for idx, i in enumerate(nums):\n",
        "    for j in nums[idx+1:]:\n",
        "      sum = i + j\n",
        "      if sum == target:\n",
        "        return idx, nums.index(j)\n",
        "      else:\n",
        "        continue\n",
        "\n",
        "threesum(nums,target)\n",
        "twosum(nums, target)"
      ],
      "metadata": {
        "id": "o0-JgRDUxLgi",
        "colab": {
          "base_uri": "https://localhost:8080/"
        },
        "outputId": "b2f09e1d-17ff-4e13-ebc7-f7b8bda49d1e"
      },
      "id": "o0-JgRDUxLgi",
      "execution_count": null,
      "outputs": [
        {
          "output_type": "execute_result",
          "data": {
            "text/plain": [
              "(0, 2)"
            ]
          },
          "metadata": {},
          "execution_count": 1
        }
      ]
    },
    {
      "cell_type": "markdown",
      "id": "52025fd3",
      "metadata": {
        "id": "52025fd3"
      },
      "source": [
        "## Climbing Stairs\n",
        "You are climbing a staircase. It takes `n` steps to reach the top.\n",
        "\n",
        "Each time you can either climb `1` or `2` steps. In how many distinct ways can you climb to the top?\n",
        "\n",
        "**Constraints:** `1 <= n <= 45`\n",
        "\n",
        "**Example 1:**\n",
        "```\n",
        "Input: n = 2\n",
        "Output: 2\n",
        "Explanation: There are two ways to climb to the top.\n",
        "1. 1 step + 1 step\n",
        "2. 2 steps\n",
        "```\n",
        "\n",
        "**Example 2:**\n",
        "```\n",
        "Input: n = 3\n",
        "Output: 3\n",
        "Explanation: There are three ways to climb to the top.\n",
        "1. 1 step + 1 step + 1 step\n",
        "2. 1 step + 2 steps\n",
        "3. 2 steps + 1 step\n",
        "```"
      ]
    },
    {
      "cell_type": "code",
      "source": [
        "n = 4\n",
        "\n",
        "def verticalmarathon(n):\n",
        "  testcounter = 0\n",
        "  smallnum = 2\n",
        "  bignum = 3\n",
        "  if n == 1:\n",
        "    return 1\n",
        "  if n == 2:\n",
        "    return 2\n",
        "  if n == 3:\n",
        "    return 3\n",
        "  for i in range(n-3):\n",
        "    midnum = bignum\n",
        "    bignum = smallnum + bignum #bignum = step x\n",
        "    smallnum = midnum #smallnum = step x - 1\n",
        "  testcounter += bignum\n",
        "  return testcounter\n",
        "\n",
        "\n",
        "  #step 1, 2 and 3 have 1, 2 and 3 combinations\n",
        "  #in order to find step 4, 2 + 3 = 5\n",
        "\n",
        "  #step 1: find 4\n",
        "  #step 2: 2 + 3 = 5\n",
        "  #step 3: find 5 (3+5=8)\n",
        "\n",
        "\n",
        "  # if n > 0:\n",
        "  #   testcounter += 1\n",
        "  # while stepcounter < n:\n",
        "  #   if n % stepcounter == 0:\n",
        "  #     testcounter += 1\n",
        "  #   stepcounter += 1\n",
        "\n",
        "\n",
        "#combinations for step x = (step x - 1) + (step x - 2)\n",
        "#step 3: 3 combinations (sum of 2 steps before)\n",
        "#step 4: 3 + 2 = 5 combinations (sum of the combinations of the 2 steps before)\n",
        "#step 5: 3 + 5 = 8 combinations\n",
        "verticalmarathon(n)"
      ],
      "metadata": {
        "id": "yEb-OEI9qn0H",
        "colab": {
          "base_uri": "https://localhost:8080/"
        },
        "outputId": "42530c9d-2edb-4c27-b1ac-8d6a0fcae6a1"
      },
      "id": "yEb-OEI9qn0H",
      "execution_count": null,
      "outputs": [
        {
          "output_type": "execute_result",
          "data": {
            "text/plain": [
              "5"
            ]
          },
          "metadata": {},
          "execution_count": 5
        }
      ]
    },
    {
      "cell_type": "code",
      "source": [
        "n = 10\n",
        "\n",
        "def climb(n):\n",
        "    if n==1: #only one step option is availble\n",
        "        return 1\n",
        "    if n ==2: # two options are possible : to take two 1-stpes or to only take one 2-steps\n",
        "        return 2\n",
        "    return climb(n-1) + climb(n-2)"
      ],
      "metadata": {
        "id": "LvBOdyGX6Ak0"
      },
      "id": "LvBOdyGX6Ak0",
      "execution_count": null,
      "outputs": []
    },
    {
      "cell_type": "code",
      "source": [
        "n = 10\n",
        "\n",
        "def factorial(n):\n",
        "  if n == 1:\n",
        "    return 1\n",
        "  return n * factorial(n-1)\n",
        "\n",
        "factorial(n)\n",
        "\n",
        "\n",
        "\n",
        "# factorial(4) = 4 * 3 * 2 * 1\n",
        "#  factorial(3) = 3 * 2 * 1\n",
        "\n",
        "# therefore factorial(4) can also be written as n * n-1 * n-2 * n-3 / 4 * factorial(3)"
      ],
      "metadata": {
        "colab": {
          "base_uri": "https://localhost:8080/"
        },
        "id": "whIjqlSl97Za",
        "outputId": "f58122f6-85b5-4504-8346-f3a741698bfc"
      },
      "id": "whIjqlSl97Za",
      "execution_count": null,
      "outputs": [
        {
          "output_type": "execute_result",
          "data": {
            "text/plain": [
              "3628800"
            ]
          },
          "metadata": {},
          "execution_count": 26
        }
      ]
    },
    {
      "cell_type": "markdown",
      "source": [
        "**Task:**\n",
        "\n",
        "write a function factorial(n) to calculate factorial of a number n"
      ],
      "metadata": {
        "id": "JbyWmPST6ehH"
      },
      "id": "JbyWmPST6ehH"
    },
    {
      "cell_type": "code",
      "source": [
        "n = 10\n",
        "\n",
        "def factorial(n):\n",
        "  step = 1\n",
        "  total = n\n",
        "  for i in range(n):\n",
        "    total *= i+1\n",
        "  return total\n",
        "\n",
        "factorial(n)"
      ],
      "metadata": {
        "colab": {
          "base_uri": "https://localhost:8080/"
        },
        "id": "7phfp__X67JD",
        "outputId": "4d7ccfb3-ad7b-4f04-ae01-1cd5da107a6c"
      },
      "id": "7phfp__X67JD",
      "execution_count": null,
      "outputs": [
        {
          "output_type": "execute_result",
          "data": {
            "text/plain": [
              "36288000"
            ]
          },
          "metadata": {},
          "execution_count": 23
        }
      ]
    }
  ],
  "metadata": {
    "kernelspec": {
      "display_name": "Python 3 (ipykernel)",
      "language": "python",
      "name": "python3"
    },
    "language_info": {
      "codemirror_mode": {
        "name": "ipython",
        "version": 3
      },
      "file_extension": ".py",
      "mimetype": "text/x-python",
      "name": "python",
      "nbconvert_exporter": "python",
      "pygments_lexer": "ipython3",
      "version": "3.8.9"
    },
    "colab": {
      "provenance": []
    }
  },
  "nbformat": 4,
  "nbformat_minor": 5
}