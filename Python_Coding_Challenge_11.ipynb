{
  "cells": [
    {
      "cell_type": "markdown",
      "id": "31547f5e",
      "metadata": {
        "id": "31547f5e"
      },
      "source": [
        "## findMiddleIndex\n",
        "\n",
        "Given an integer array A, write a function `findMiddleIndex(array)` that returns the first index `N` where the sum of the elements to the left of `N` is equal to the sum of the elements to the right of `N`.\n",
        "\n",
        "- The sum of the elements in an empty array can be treated as 0.\n",
        "- If no such `N` can be found, return -1.\n",
        "\n",
        "```\n",
        "Example1\n",
        "A = [1, 2, 5, 1, 2]\n",
        "Output: 2\n",
        "```\n",
        "\n",
        "Explanation: At index 2, left side = 1 + 2 = 3, right side = 1 + 2 = 3\n",
        "\n",
        "```\n",
        "Example2\n",
        "A = [ 1, 2, -3, 6]\n",
        "Output: 3\n",
        "```\n",
        "\n",
        "```\n",
        "Example3\n",
        "A = [80, -10, 10]\n",
        "Output: 0\n",
        "```\n",
        "\n",
        "Explanation: At index 0, left side = empty array (counts as 0), right side = -10+10 = 0"
      ]
    },
    {
      "cell_type": "code",
      "source": [
        "A = [80, -10, 10]\n",
        "\n",
        "def findmiddleindexfrthistime(A):\n",
        "  N = 0\n",
        "  leftc = 1\n",
        "  rightc = -2\n",
        "  leftside = 0\n",
        "  rightside = 0\n",
        "  A.insert(0, 0)\n",
        "  A.append(0)\n",
        "  if sum(A, -1*A[-2]) == 0:\n",
        "    N = len(A) - 3\n",
        "  elif sum(A, -1*A[1]) == 0:\n",
        "    N = 0\n",
        "  else:\n",
        "    while N == 0:\n",
        "      if leftside >= rightside:\n",
        "        if rightc < len(A):\n",
        "          rightside += A[rightc]\n",
        "          rightc -= 1\n",
        "      else:\n",
        "        if leftc < len(A):\n",
        "          leftside += A[leftc]\n",
        "          leftc += 1\n",
        "      print(leftc)\n",
        "      print(rightc)\n",
        "      print(leftside)\n",
        "      print(rightside, 'end')\n",
        "      if rightc - 2*rightc > len(A) and leftc > len(A):\n",
        "        N = -1\n",
        "      if rightside == leftside:\n",
        "        N = leftc-1\n",
        "        break\n",
        "  return N\n",
        "\n",
        "findmiddleindexfrthistime(A)"
      ],
      "metadata": {
        "id": "3rEf5-I1Dyxm",
        "colab": {
          "base_uri": "https://localhost:8080/"
        },
        "outputId": "a1488a07-2636-4cfa-aac1-755d92eac554"
      },
      "id": "3rEf5-I1Dyxm",
      "execution_count": null,
      "outputs": [
        {
          "output_type": "execute_result",
          "data": {
            "text/plain": [
              "0"
            ]
          },
          "metadata": {},
          "execution_count": 2
        }
      ]
    },
    {
      "cell_type": "markdown",
      "id": "2bd670be",
      "metadata": {
        "id": "2bd670be"
      },
      "source": [
        "## pow\n",
        "\n",
        "Given a sorted integer array A and an integer b, returns an output array containing elements that are raised to the power of A[i]. You may not use any math libraries or built-in functions that will trivialise the calculations.\n",
        "\n",
        "Assume A has n elements and highest element in A is an integer m where b^m will never exceed `2^32 - 1`\n",
        "\n",
        "```\n",
        "Example: A = [0, 1, 2, 3, 5, 10], b = 2\n",
        "Output: [1, 2, 4, 8, 32, 1024]\n",
        "```"
      ]
    },
    {
      "cell_type": "code",
      "execution_count": 12,
      "id": "e7a47dbd",
      "metadata": {
        "id": "e7a47dbd",
        "colab": {
          "base_uri": "https://localhost:8080/"
        },
        "outputId": "638ef7a4-8740-443f-fac7-ca5bb45d8c8d"
      },
      "outputs": [
        {
          "output_type": "execute_result",
          "data": {
            "text/plain": [
              "[1, 2, 4, 8, 32, 1024]"
            ]
          },
          "metadata": {},
          "execution_count": 12
        }
      ],
      "source": [
        "a = [0, 1, 2, 3, 5, 10]\n",
        "b = 2\n",
        "\n",
        "def raised(power, num):\n",
        "  ognum = num\n",
        "  if power == 0:\n",
        "    return 1\n",
        "  elif power == 1:\n",
        "    return num\n",
        "  for i in range(power-1):\n",
        "    num = num * ognum\n",
        "  return num\n",
        "\n",
        "def pow(a,b):\n",
        "  answer = []\n",
        "  for i in a:\n",
        "    answer.append(raised(i, b))\n",
        "  return answer\n",
        "\n",
        "pow(a, b)"
      ]
    }
  ],
  "metadata": {
    "kernelspec": {
      "display_name": "Python 3 (ipykernel)",
      "language": "python",
      "name": "python3"
    },
    "language_info": {
      "codemirror_mode": {
        "name": "ipython",
        "version": 3
      },
      "file_extension": ".py",
      "mimetype": "text/x-python",
      "name": "python",
      "nbconvert_exporter": "python",
      "pygments_lexer": "ipython3",
      "version": "3.8.9"
    },
    "colab": {
      "provenance": []
    }
  },
  "nbformat": 4,
  "nbformat_minor": 5
}