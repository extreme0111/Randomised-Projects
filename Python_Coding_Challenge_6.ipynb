{
  "cells": [
    {
      "cell_type": "markdown",
      "id": "e1cc7fc0",
      "metadata": {
        "id": "e1cc7fc0"
      },
      "source": [
        "## Parse an encoded string\n",
        "\n",
        "Write a function `parse_encoded_str` that accepts an encoded string as a parameter. This string will contain a first name, last name, and an id. An example input would be `Adam000Lambert000123`.\n",
        "\n",
        "- Values in the string can be separated by any number of zeros.\n",
        "- The id is a numeric value but will contain no zeros.\n",
        "- The function should parse the string and return a **Python dictionary** that contains the first name, last name, and id values.\n",
        "\n",
        "The function should return:\n",
        "`{ \"first_name\": \"Adam\", \"last_name\": \"Lambert\", \"id\": \"123\" }`"
      ]
    },
    {
      "cell_type": "code",
      "execution_count": null,
      "id": "29c7e13e",
      "metadata": {
        "colab": {
          "base_uri": "https://localhost:8080/"
        },
        "id": "29c7e13e",
        "outputId": "4675695d-2932-48f1-de2d-1a21e661c241"
      },
      "outputs": [
        {
          "output_type": "execute_result",
          "data": {
            "text/plain": [
              "{'first_name': 'Adam', 'last_name': 'Lambert', 'ID': '123'}"
            ]
          },
          "metadata": {},
          "execution_count": 46
        }
      ],
      "source": [
        "def parse_encoded_str(code):\n",
        "  code = list(code)\n",
        "  iszero = False\n",
        "  hold = []\n",
        "  answer = {\"first_name\": '', \"last_name\": '', \"ID\": ''}\n",
        "  counter = 0\n",
        "  while counter < 3:\n",
        "    index = list(answer.keys())[counter]\n",
        "    for idx, value in enumerate(code):\n",
        "      if value != '0':\n",
        "        hold.append(value)\n",
        "      elif value == '0' or idx != len(code)-1:\n",
        "        if answer[str(index)] == '':\n",
        "          answer[str(index)] = ''.join(hold)\n",
        "        hold = []\n",
        "        code = code[idx:]\n",
        "        for idx, smvalue in enumerate(code):\n",
        "          if smvalue != '0':\n",
        "            code = code[idx:]\n",
        "            break\n",
        "        break\n",
        "      if idx == len(code)-1:\n",
        "        answer[str(index)] = ''.join(code)\n",
        "\n",
        "    counter += 1\n",
        "  return answer\n",
        "\n",
        "parse_encoded_str('Adam0Lambert0123')"
      ]
    },
    {
      "cell_type": "markdown",
      "id": "e89f1693",
      "metadata": {
        "id": "e89f1693"
      },
      "source": [
        "Write a new function that is an extended version of the one above. This function accepts an **additional parameter** `type` with a default value `american`.\n",
        "\n",
        "The parameter `type` can also accept another value `chinese`.  \n",
        "\n",
        "If `type` == `chinese`, you will parse the string differently.\n",
        "\n",
        "Example input:\n",
        "`Tan000Jie000Liang00088392`\n",
        "\n",
        "Returns:\n",
        "`{ \"first_name\": \"Jie Liang\", \"last_name\": \"Tan\", \"id\": \"88392\" }`\n",
        "\n",
        "\n",
        "If `type` == `american`, it will function like the initial implementation."
      ]
    },
    {
      "cell_type": "code",
      "execution_count": null,
      "id": "6e2456f2",
      "metadata": {
        "id": "6e2456f2",
        "colab": {
          "base_uri": "https://localhost:8080/"
        },
        "outputId": "43aebdd0-d8f7-445b-ce7a-5ff31fca642e"
      },
      "outputs": [
        {
          "output_type": "execute_result",
          "data": {
            "text/plain": [
              "{'first_name': 'Adam', 'last_name': 'Lambert', 'ID': '123'}"
            ]
          },
          "metadata": {},
          "execution_count": 16
        }
      ],
      "source": [
        "code = 'Adam000Lambert000123'\n",
        "\n",
        "def decrypt(code, race):\n",
        "  answer = {\"first_name\": '', \"last_name\": '', \"ID\": ''}\n",
        "  if race == 'american':\n",
        "    for idx, value in enumerate(list(code)):\n",
        "      if value != '0':\n",
        "        answer['first_name'] = answer['first_name'] + value\n",
        "      elif value == '0':\n",
        "        code = code[idx:]\n",
        "        break\n",
        "\n",
        "    for idx, value in enumerate(list(code)):\n",
        "      if value != '0':\n",
        "        code = code[idx:]\n",
        "        break\n",
        "\n",
        "    for idx, value in enumerate(list(code)):\n",
        "      if value != '0':\n",
        "        answer['last_name'] = answer['last_name'] + value\n",
        "      else:\n",
        "        code = code[idx:]\n",
        "        break\n",
        "\n",
        "    for idx, value in enumerate(list(code)):\n",
        "      if value != '0':\n",
        "        code = code[idx:]\n",
        "        break\n",
        "\n",
        "    for idx, value in enumerate(list(code)):\n",
        "      if value != '0':\n",
        "        answer['ID'] = answer['ID'] + value\n",
        "      else:\n",
        "        code = code[idx:]\n",
        "        break\n",
        "    return answer\n",
        "\n",
        "  elif race == 'chinese':\n",
        "    for idx, value in enumerate(list(code)):\n",
        "      if value != '0':\n",
        "        answer['last_name'] = answer['last_name'] + value\n",
        "      elif value == '0':\n",
        "        code = code[idx:]\n",
        "        break\n",
        "\n",
        "    for idx, value in enumerate(list(code)):\n",
        "      if value != '0':\n",
        "        code = code[idx:]\n",
        "        break\n",
        "\n",
        "    for idx, value in enumerate(list(code)):\n",
        "      if value != '0':\n",
        "        answer['first_name'] = answer['first_name'] + value\n",
        "      else:\n",
        "        answer['first_name'] = answer['first_name'] + ' '\n",
        "        code = code[idx:]\n",
        "        break\n",
        "\n",
        "    for idx, value in enumerate(list(code)):\n",
        "      if value != '0':\n",
        "        code = code[idx:]\n",
        "        break\n",
        "\n",
        "    for idx, value in enumerate(list(code)):\n",
        "      if value != '0':\n",
        "        answer['first_name'] = answer['first_name'] + value\n",
        "      else:\n",
        "        code = code[idx:]\n",
        "        break\n",
        "\n",
        "    for idx, value in enumerate(list(code)):\n",
        "      if value != '0':\n",
        "        code = code[idx:]\n",
        "        break\n",
        "\n",
        "    for idx, value in enumerate(list(code)):\n",
        "      if value != '0':\n",
        "        answer['ID'] = answer['ID'] + value\n",
        "      else:\n",
        "        code = code[idx:]\n",
        "        break\n",
        "    return answer\n",
        "\n",
        "decrypt(code, 'american')"
      ]
    },
    {
      "cell_type": "markdown",
      "id": "125cb20a",
      "metadata": {
        "id": "125cb20a"
      },
      "source": [
        "## Find the difference between the strings\n",
        "\n",
        "Write a function `diff_between_str` that accepts two string parameters. The first parameter is a string of characters, and the second parameter will be the same string of characters, **in a different order** AND has **one extra character**. The function should return that extra character.\n",
        "\n",
        "**Example 1:** first parameter is `eueiieo` and second param is `iieoedue`\n",
        "\n",
        "Return `d`\n",
        "\n",
        "**Example 2:**\n",
        "\n",
        "1st: `juices`, 2nd: `cijusee`\n",
        "\n",
        "Returns `e`\n",
        "\n",
        "**Example 3:**\n",
        "\n",
        "1st: `asdfjkl`, 2nd:  `kjtfdasl`\n",
        "\n",
        "Returns `t`"
      ]
    },
    {
      "cell_type": "code",
      "execution_count": null,
      "id": "89eae021",
      "metadata": {
        "id": "89eae021",
        "colab": {
          "base_uri": "https://localhost:8080/"
        },
        "outputId": "cc3ff825-d9be-4df7-e472-64fba10a7dc3"
      },
      "outputs": [
        {
          "output_type": "execute_result",
          "data": {
            "text/plain": [
              "['t']"
            ]
          },
          "metadata": {},
          "execution_count": 3
        }
      ],
      "source": [
        "string1 = 'asdfjkl'\n",
        "string2 = 'kjtfdasl'\n",
        "string1 = sorted(list(string1))\n",
        "string2 = sorted(list(string2))\n",
        "\n",
        "def difference(string1, string2):\n",
        "  if len(string1) > len(string2):\n",
        "    bigger = string1\n",
        "    smaller = string2\n",
        "  else:\n",
        "    bigger = string2\n",
        "    smaller = string1\n",
        "  for i in smaller:\n",
        "    if i in bigger:\n",
        "      bigger.remove(i)\n",
        "    else:\n",
        "      continue\n",
        "  diff = bigger\n",
        "  return diff\n",
        "\n",
        "difference(string1, string2)"
      ]
    }
  ],
  "metadata": {
    "kernelspec": {
      "display_name": "Python 3 (ipykernel)",
      "language": "python",
      "name": "python3"
    },
    "language_info": {
      "codemirror_mode": {
        "name": "ipython",
        "version": 3
      },
      "file_extension": ".py",
      "mimetype": "text/x-python",
      "name": "python",
      "nbconvert_exporter": "python",
      "pygments_lexer": "ipython3",
      "version": "3.8.9"
    },
    "colab": {
      "provenance": []
    }
  },
  "nbformat": 4,
  "nbformat_minor": 5
}