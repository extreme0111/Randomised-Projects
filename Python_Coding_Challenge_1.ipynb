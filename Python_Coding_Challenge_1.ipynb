{
  "nbformat": 4,
  "nbformat_minor": 5,
  "metadata": {
    "kernelspec": {
      "display_name": "Python 3",
      "language": "python",
      "name": "python3"
    },
    "language_info": {
      "codemirror_mode": {
        "name": "ipython",
        "version": 3
      },
      "file_extension": ".py",
      "mimetype": "text/x-python",
      "name": "python",
      "nbconvert_exporter": "python",
      "pygments_lexer": "ipython3",
      "version": "3.8.6"
    },
    "colab": {
      "provenance": []
    }
  },
  "cells": [
    {
      "cell_type": "markdown",
      "metadata": {
        "id": "secret-desperate"
      },
      "source": [
        "Create a Python function that accepts a string. The function should return a string, with each character in the original string doubled. If you send the function \"now\" as a parameter, it should return \"nnooww,\" and if you send \"123a!\", it should return \"112233aa!!\"."
      ],
      "id": "secret-desperate"
    },
    {
      "cell_type": "code",
      "metadata": {
        "colab": {
          "base_uri": "https://localhost:8080/"
        },
        "id": "weird-franchise",
        "outputId": "61b61f97-fa88-4694-9e68-cf1842f96383"
      },
      "source": [
        "def doubler():\n",
        "  string = input()\n",
        "  listt = list(string)\n",
        "  for char in list(string):\n",
        "    listt.append(listt[0])\n",
        "    popped = listt.pop(0)\n",
        "    listt.append(popped)\n",
        "  listt = ''.join(listt)\n",
        "  print(listt)\n",
        "\n",
        "doubler()\n"
      ],
      "id": "weird-franchise",
      "execution_count": null,
      "outputs": [
        {
          "output_type": "stream",
          "name": "stdout",
          "text": [
            "yeet\n",
            "yyeeeett\n"
          ]
        }
      ]
    },
    {
      "cell_type": "markdown",
      "metadata": {
        "id": "outdoor-pasta"
      },
      "source": [
        "Write a function that stutters a word as if someone is struggling to read it. The first two letters are repeated twice with an ellipsis `...` and space after each, and then the word is pronounced with a question mark `?`.\n",
        "\n",
        "Examples:\n",
        "```\n",
        "stutter(\"incredible\") ➞ \"in... in... incredible?\"\n",
        "\n",
        "stutter(\"enthusiastic\") ➞ \"en... en... enthusiastic?\"\n",
        "\n",
        "stutter(\"outstanding\") ➞ \"ou... ou... outstanding?\"\n",
        "\n",
        "```"
      ],
      "id": "outdoor-pasta"
    },
    {
      "cell_type": "code",
      "metadata": {
        "id": "abstract-investor",
        "colab": {
          "base_uri": "https://localhost:8080/"
        },
        "outputId": "7796031f-f940-4d13-bee5-b0ed7df11e86"
      },
      "source": [
        "def stutter():\n",
        "  word = input()\n",
        "  two = word[0:2]\n",
        "  new_word = two + '...' + two + '...' + word + '?'\n",
        "  print(new_word)\n",
        "\n",
        "stutter()"
      ],
      "id": "abstract-investor",
      "execution_count": null,
      "outputs": [
        {
          "output_type": "stream",
          "name": "stdout",
          "text": [
            "input\n",
            "in...in...input?\n"
          ]
        }
      ]
    },
    {
      "cell_type": "markdown",
      "metadata": {
        "id": "treated-layer"
      },
      "source": [
        "Create a function that takes a string and returns the number (count) of vowels contained within it.\n",
        "\n",
        "Examples:\n",
        "```\n",
        "count_vowels(\"Celebration\") ➞ 5\n",
        "\n",
        "count_vowels(\"Palm\") ➞ 1\n",
        "\n",
        "count_vowels(\"Prediction\") ➞ 4\n",
        "```"
      ],
      "id": "treated-layer"
    },
    {
      "cell_type": "code",
      "metadata": {
        "id": "minus-lingerie",
        "colab": {
          "base_uri": "https://localhost:8080/"
        },
        "outputId": "b3749269-fd2f-4bac-df71-76718c894c12"
      },
      "source": [
        "def count_vowels():\n",
        "  vowel_list = ['a', 'e', 'i', 'o', 'u']\n",
        "  word = input()\n",
        "  count = 0\n",
        "  for letter in word:\n",
        "    if letter in vowel_list:\n",
        "      count += 1\n",
        "  print(count)\n",
        "\n",
        "count_vowels()"
      ],
      "id": "minus-lingerie",
      "execution_count": null,
      "outputs": [
        {
          "output_type": "stream",
          "name": "stdout",
          "text": [
            "inpuuuuuuut\n",
            "8\n"
          ]
        }
      ]
    }
  ]
}