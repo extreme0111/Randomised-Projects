{
  "cells": [
    {
      "cell_type": "markdown",
      "id": "4cea366b",
      "metadata": {
        "id": "4cea366b"
      },
      "source": [
        "### StockPicker\n",
        "\n",
        "Have the function `StockPicker(arr)` take the array of numbers stored in `arr` which will contain integers that represent the amount in dollars that a single stock is worth, and return the maximum profit that could have been made by buying stock on day `x` and selling stock on day `y` where `y > x`.\n",
        "\n",
        "For example: if `arr = [44, 30, 24, 32, 35, 30, 40, 38, 15]` then your program should return `16` because at index 2 the stock was worth SGD24 and at index 6 the stock was then worth SGD40, so if you bought the stock at 24 and sold it at 40, you would have made a profit of SGD16, which is the maximum profit that could have been made with this list of stock prices.\n",
        "\n",
        "If there is no profit that could have been made with the stock prices, then your program should return `-1`\n",
        "\n",
        "For example: `arr = [10, 9, 8, 2]` then your program should return `-1`"
      ]
    },
    {
      "cell_type": "code",
      "execution_count": 6,
      "id": "ef50e6b4",
      "metadata": {
        "colab": {
          "base_uri": "https://localhost:8080/"
        },
        "id": "ef50e6b4",
        "outputId": "d3119a94-0da6-45e4-e8a8-3635baabce84"
      },
      "outputs": [
        {
          "output_type": "execute_result",
          "data": {
            "text/plain": [
              "16"
            ]
          },
          "metadata": {},
          "execution_count": 6
        }
      ],
      "source": [
        "#first solution\n",
        "\n",
        "arr = [44, 30, 24, 32, 35, 30, 40, 38, 15]\n",
        "\n",
        "def StockPicker(arr):\n",
        "  profit = 0\n",
        "  for idx,j in enumerate(arr):\n",
        "    for idxx,i in enumerate(arr):\n",
        "      if idx > idxx:\n",
        "        continue\n",
        "      if arr[idxx] - j > profit:\n",
        "        profit = arr[idxx] - j\n",
        "  if profit == 0:\n",
        "    return -1\n",
        "  return profit\n",
        "\n",
        "StockPicker(arr)"
      ]
    },
    {
      "cell_type": "code",
      "source": [
        "arr = [1,2,3,4,5,6,7,8,9,10]\n",
        "\n",
        "def StockPickerrr(arr):\n",
        "  profit = 0\n",
        "  number1 = 0\n",
        "  number2 = len(arr) - 1\n",
        "  while len(arr) > 1:\n",
        "    buyingprice = arr[number1]\n",
        "    sellingprice = arr[number2]\n",
        "    if sellingprice - buyingprice > profit:\n",
        "      profit = sellingprice - buyingprice\n",
        "    if number1 + 1 == len(arr):\n",
        "      number1 = 0\n",
        "      number2 -= 1\n",
        "      arr.pop()\n",
        "    else:\n",
        "      number1 += 1\n",
        "  if profit == 0:\n",
        "    profit = -1\n",
        "  return profit\n",
        "\n",
        "StockPickerrr(arr)"
      ],
      "metadata": {
        "colab": {
          "base_uri": "https://localhost:8080/"
        },
        "id": "2lZc61Ff-D2n",
        "outputId": "cfdc7e44-5fcf-49db-8a7b-9280f8aa881d"
      },
      "id": "2lZc61Ff-D2n",
      "execution_count": 4,
      "outputs": [
        {
          "output_type": "execute_result",
          "data": {
            "text/plain": [
              "9"
            ]
          },
          "metadata": {},
          "execution_count": 4
        }
      ]
    },
    {
      "cell_type": "code",
      "source": [
        "#final solution\n",
        "\n",
        "arr = [44, 30, 24, 32, 35, 30, 40, 38, 15]\n",
        "\n",
        "def StockPicker(arr):\n",
        "  minBuy = arr[0]\n",
        "  maxProfit = 0\n",
        "  for i in range(1, len(arr)):\n",
        "    minBuy = min(minBuy, arr[i])\n",
        "    maxProfit = max(maxProfit, arr[i] - minBuy)\n",
        "\n",
        "  return maxProfit if maxProfit > 0 else -1\n",
        "\n",
        "StockPicker(arr)"
      ],
      "metadata": {
        "id": "fM1qZVgTE-v0",
        "colab": {
          "base_uri": "https://localhost:8080/"
        },
        "outputId": "a7c1be5c-7fc5-4b0f-c8a6-abf396347c62"
      },
      "id": "fM1qZVgTE-v0",
      "execution_count": 8,
      "outputs": [
        {
          "output_type": "execute_result",
          "data": {
            "text/plain": [
              "16"
            ]
          },
          "metadata": {},
          "execution_count": 8
        }
      ]
    },
    {
      "cell_type": "markdown",
      "id": "259e27d5",
      "metadata": {
        "id": "259e27d5"
      },
      "source": [
        "### Forex Trader\n",
        "\n",
        "Given an Integer array A which contains the exchange rate of JPY : SGD (Japanese Yen : Singapore Dollar) for the given days. For example, on the first day, you can buy 100¥ using SGD 1. On day 2, you can buy 90¥ using $1. On the last day, you can buy 95¥ using SGD 1. Then, A will be `[100, 90, 95]`.\n",
        "\n",
        "Your goal as a forex trader is to use SGD to buy JPY, and then sell JPY later on, resulting in a **profit**. Write a function that returns the highest profit that could be made with SGD 100 for the given A. You can only perform 1 ‘buy’ transaction and 1 ‘sell’ transaction. If there is no profit to be made, return `-1`.\n",
        "\n",
        "Profit should be returned to the neared **2.d.p**\n",
        "\n",
        "```\n",
        "Example: A = [100, 110, 80, 90, 70, 120]\n",
        "Output: Highest profit = SGD 57.14\n",
        "```\n",
        "\n",
        "Explanation:\n",
        "\n",
        "1) Buy Jap ¥ on day 2: $100 * 110 = 11,000 ¥\n",
        "\n",
        "2) Sell Jap ¥ on day 5: 11,000¥ / 70 = SGD 157.14\n",
        "\n",
        "3) Profit: $157.14 - SGD 100 = SGD 57.14\n",
        "\n",
        "```\n",
        "Example: A = [70, 80, 90, 100]\n",
        "Output: Highest profit = -1\n",
        "```"
      ]
    },
    {
      "cell_type": "code",
      "execution_count": 2,
      "id": "13268cd4",
      "metadata": {
        "id": "13268cd4",
        "colab": {
          "base_uri": "https://localhost:8080/"
        },
        "outputId": "b6376dcc-be04-4ce9-af4d-a3dd94082ecc"
      },
      "outputs": [
        {
          "output_type": "execute_result",
          "data": {
            "text/plain": [
              "57.14"
            ]
          },
          "metadata": {},
          "execution_count": 2
        }
      ],
      "source": [
        "import sys\n",
        "max_size = sys.maxsize\n",
        "min_size = -sys.maxsize - 1\n",
        "import math\n",
        "\n",
        "A = [100, 110, 80, 90, 70, 120]\n",
        "\n",
        "def multiply(n):\n",
        "  return n * 100\n",
        "\n",
        "def ForexTrader(A):\n",
        "  profit = 0\n",
        "  sellingprice = max_size\n",
        "  A = list(map(multiply, A))\n",
        "  for idx,i in enumerate(A):\n",
        "    if i < sellingprice:\n",
        "      sellingprice = i\n",
        "    for idxx in range(idx, len(A)):\n",
        "      if idx+idxx > len(A)-1:\n",
        "        continue\n",
        "      if profit < i - A[idx+idxx]:\n",
        "        profit = i - A[idx+idxx]\n",
        "\n",
        "  finalprofit = (profit / sellingprice) * 100\n",
        "  finalprofit = round(finalprofit,2)\n",
        "  if finalprofit == 0:\n",
        "    finalprofit = -1\n",
        "  return finalprofit\n",
        "\n",
        "ForexTrader(A)\n",
        "\n",
        "#idxx exits index range because idx+idxx and list is being altered while looping\n",
        "#fix\n",
        "\n",
        "\n",
        "\n"
      ]
    }
  ],
  "metadata": {
    "kernelspec": {
      "display_name": "Python 3 (ipykernel)",
      "language": "python",
      "name": "python3"
    },
    "language_info": {
      "codemirror_mode": {
        "name": "ipython",
        "version": 3
      },
      "file_extension": ".py",
      "mimetype": "text/x-python",
      "name": "python",
      "nbconvert_exporter": "python",
      "pygments_lexer": "ipython3",
      "version": "3.8.9"
    },
    "colab": {
      "provenance": []
    }
  },
  "nbformat": 4,
  "nbformat_minor": 5
}