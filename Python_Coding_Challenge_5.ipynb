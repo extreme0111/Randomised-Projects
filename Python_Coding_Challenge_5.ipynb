{
  "cells": [
    {
      "cell_type": "markdown",
      "id": "3d9ad5b7",
      "metadata": {
        "id": "3d9ad5b7"
      },
      "source": [
        "Given an integer, return the full english description for it (up to ten-thousandth place)\n",
        "\n",
        "e.g.\n",
        "\n",
        "numtoenglish(15) -> `fifteen`\n",
        "\n",
        "numtoenglish(0) -> `zero`\n",
        "\n",
        "numtoenglish(256) -> `two hundred and fifty six`\n",
        "\n",
        "numtoenglish(3006) -> `three thousand and six`\n",
        "\n",
        "numtoenglish(99999) -> `ninety nine thousand nine hundred and ninety nine`"
      ]
    },
    {
      "cell_type": "code",
      "execution_count": null,
      "id": "8fc2bd54",
      "metadata": {
        "colab": {
          "base_uri": "https://localhost:8080/",
          "height": 36
        },
        "id": "8fc2bd54",
        "outputId": "c1a9cf2b-bfa4-4c01-e546-27c4a996828c"
      },
      "outputs": [
        {
          "output_type": "execute_result",
          "data": {
            "text/plain": [
              "'eleven'"
            ],
            "application/vnd.google.colaboratory.intrinsic+json": {
              "type": "string"
            }
          },
          "metadata": {},
          "execution_count": 82
        }
      ],
      "source": [
        "singledigit = {0: 'zero', 1: 'one', 2: 'two', 3: 'three', 4: 'four', 5: 'five', 6: 'six', 7: 'seven', 8: 'eight', 9: 'nine'}\n",
        "teens = {11: 'eleven', 12: 'twelve', 13: 'thirteen', 14: 'fourteen', 15: 'fifteen', 16: 'sixteen', 17: 'seventeen', 18: 'eighteen', 19: 'nineteen'}\n",
        "tens = {10: 'ten', 20: 'twenty', 30: 'thirty', 40: 'forty', 50: 'fifty', 60: 'sixty', 70: 'seventy', 80: 'eighty', 90: 'ninety', 100: 'hundred'}\n",
        "suffixes = {7: 'million', 6: 'hundred thousand', 5: 'thousand', 4: 'thousand', 3: 'hundred'}\n",
        "\n",
        "\n",
        "\n",
        "\n",
        "def findnum(subnum):\n",
        "  var = ''\n",
        "  var.append(tens[list(subnum)[0]])\n",
        "  if list(subnum)[1] in singledigit.keys():\n",
        "    var.append(' ' + singledigit[list(subnum)[1]])\n",
        "  return var\n",
        "\n",
        "\n",
        "def numtoenglish(num):\n",
        "  temp = ''\n",
        "  answer = ''\n",
        "  for i in teens:\n",
        "    if i == num:\n",
        "      answer = teens[i]\n",
        "      return answer\n",
        "  for i in tens:\n",
        "    if i == num:\n",
        "      answer = tens[i]\n",
        "      return answer\n",
        "  for i in singledigit:\n",
        "    if i == num:\n",
        "      answer = singledigit[i]\n",
        "      return answer\n",
        "\n",
        "\n",
        "  digits = len(str(num))\n",
        "\n",
        "  if digits == 7:\n",
        "    for i in singledigit:\n",
        "      if i == int(list(str(num))[0]):\n",
        "        answer += singledigit[i]\n",
        "        break\n",
        "\n",
        "    for i in suffixes:\n",
        "      if i == digits:\n",
        "        answer += ' ' + suffixes[i] + ' '\n",
        "        break\n",
        "\n",
        "    digits = len(str(num)) - 1\n",
        "\n",
        "  if digits == 6:\n",
        "    if list(str(num))[1] != '0':\n",
        "      for i in singledigit:\n",
        "        if i == int(list(str(num))[1]):\n",
        "          answer += singledigit[i]\n",
        "          break\n",
        "      for i in suffixes:\n",
        "        if i == digits:\n",
        "          answer += ' ' + suffixes[i] + ' '\n",
        "          break\n",
        "\n",
        "    digits = digits - 1\n",
        "\n",
        "  if digits == 5:\n",
        "    tenthousand = list(str(num))[len(str(num)) - digits] + list(str(num))[len(str(num)) - (digits-1)]\n",
        "    if int(tenthousand) in teens.keys() and int(list(str(tenthousand))[0]) != 0:\n",
        "      if 'thousand' in answer:\n",
        "        answer = answer.replace('thousand', 'and')\n",
        "      answer += teens[int(tenthousand)] + ' ' + 'thousand'\n",
        "\n",
        "    else:\n",
        "      for j in tens:\n",
        "        if j == int(str(tenthousand[0]) + '0'):\n",
        "          answer = answer.replace('thousand', 'and')\n",
        "          answer += tens[j] + ' '\n",
        "          break\n",
        "\n",
        "      if int(tenthousand[1]) > 0:\n",
        "        if int(tenthousand[1]) in singledigit.keys():\n",
        "          answer = answer.replace('thousand', 'and')\n",
        "          answer += singledigit[int(tenthousand[1])]\n",
        "\n",
        "      for i in suffixes:\n",
        "        if i == digits:\n",
        "          if int(list(str(tenthousand))[0]) != 0:\n",
        "            answer = answer.replace('thousand', 'and')\n",
        "            answer += ' ' + suffixes[i]\n",
        "            break\n",
        "\n",
        "    digits = digits - 2\n",
        "\n",
        "  if digits == 4:\n",
        "    for j in singledigit.keys():\n",
        "      if j == int(list(str(num))[0]):\n",
        "        answer += singledigit[j] + ' thousand'\n",
        "\n",
        "    digits = digits - 1\n",
        "\n",
        "  if digits == 3:\n",
        "    if int(list(str(num))[-3]) > 0:\n",
        "      if answer != '':\n",
        "        answer += ' and ' + singledigit[int(list(str(num))[-3])] + ' hundred'\n",
        "      else:\n",
        "        answer += singledigit[int(list(str(num))[-3])] + ' hundred'\n",
        "\n",
        "    digits = digits - 1\n",
        "\n",
        "  if digits == 2:\n",
        "    ten = int(list(str(num))[-2] + list(str(num))[-1])\n",
        "    if ten == 0:\n",
        "      return answer\n",
        "    elif ten in teens.keys():\n",
        "      if answer != '':\n",
        "        answer += ' and ' + teens[ten]\n",
        "      else:\n",
        "        answer += teens[ten]\n",
        "    elif ten in tens.keys():\n",
        "      if answer != '':\n",
        "        answer += ' and ' + tens[ten]\n",
        "      else:\n",
        "        answer + tens[ten]\n",
        "    else:\n",
        "      if list(str(ten))[0] != 0:\n",
        "        if answer != '':\n",
        "          answer += ' and ' + singledigit[int(list(str(ten))[0])]\n",
        "        else:\n",
        "          answer += singledigit[int(list(str(ten))[0])]\n",
        "      else:\n",
        "        if answer != '':\n",
        "          answer += ' and ' + tens[int(list(str(ten))[0] + '0')] + ' '\n",
        "        else:\n",
        "          answer += tens[int(list(str(ten))[0] + '0')] + ' '\n",
        "\n",
        "  return answer\n",
        "\n",
        "\n",
        "\n",
        "numtoenglish(11)"
      ]
    },
    {
      "cell_type": "markdown",
      "id": "0a340a3c",
      "metadata": {
        "id": "0a340a3c"
      },
      "source": [
        "Given a 2 numbers, print all the multiples of 3 within that range\n",
        "\n",
        "e.g.\n",
        "\n",
        "`3, 10` prints `3, 6, 9`\n",
        "\n",
        "Test your solution with\n",
        "\n",
        "`10, 100`\n",
        "`0, 39`\n",
        "`-3, 61`"
      ]
    },
    {
      "cell_type": "code",
      "execution_count": null,
      "id": "b79d8b6e",
      "metadata": {
        "id": "b79d8b6e",
        "colab": {
          "base_uri": "https://localhost:8080/"
        },
        "outputId": "fe76792d-d809-44e6-db02-f28e10a834df"
      },
      "outputs": [
        {
          "output_type": "execute_result",
          "data": {
            "text/plain": [
              "[-3,\n",
              " 0,\n",
              " 3,\n",
              " 6,\n",
              " 9,\n",
              " 12,\n",
              " 15,\n",
              " 18,\n",
              " 21,\n",
              " 24,\n",
              " 27,\n",
              " 30,\n",
              " 33,\n",
              " 36,\n",
              " 39,\n",
              " 42,\n",
              " 45,\n",
              " 48,\n",
              " 51,\n",
              " 54,\n",
              " 57,\n",
              " 60]"
            ]
          },
          "metadata": {},
          "execution_count": 86
        }
      ],
      "source": [
        "def multsof3(floor, roof):\n",
        "  answer = []\n",
        "  for i in range(floor, roof+1, 1):\n",
        "    if i % 3 == 0:\n",
        "      answer.append(i)\n",
        "  return answer\n",
        "\n",
        "multsof3(-3, 61)"
      ]
    },
    {
      "cell_type": "markdown",
      "id": "a4a587fa",
      "metadata": {
        "id": "a4a587fa"
      },
      "source": [
        "Given a string, find a substring based on the following conditions:\n",
        "\n",
        "- The substring must be the longest one of all the possible substring in the given string.\n",
        "- There must not be any repeating characters in the substring.\n",
        "- If there is more than one substring satisfying the above two conditions, then print the substring which occurs first.\n",
        "- If there is no substring satisfying all the aforementioned conditions then print -1."
      ]
    },
    {
      "cell_type": "code",
      "execution_count": null,
      "id": "42ca60c3",
      "metadata": {
        "id": "42ca60c3",
        "colab": {
          "base_uri": "https://localhost:8080/"
        },
        "outputId": "11cb7376-0d33-4bdc-8e3d-10e78d380522"
      },
      "outputs": [
        {
          "output_type": "execute_result",
          "data": {
            "text/plain": [
              "-1"
            ]
          },
          "metadata": {},
          "execution_count": 100
        }
      ],
      "source": [
        "def substring(word):\n",
        "  substring = []\n",
        "  checked = []\n",
        "\n",
        "\n",
        "\n",
        "  if word == '' or word == ' ':\n",
        "    return -1\n",
        "\n",
        "  for i in list(word):\n",
        "    if i not in checked:\n",
        "      checked.append(i)\n",
        "  if len(checked) == len(list(word)):\n",
        "    return word\n",
        "\n",
        "\n",
        "\n",
        "  for i in range(len(word)-1, 0, -1):\n",
        "    for j, value in enumerate(word):\n",
        "      substring = word[j:i+j]\n",
        "      if satisfy(substring) == True:\n",
        "        return substring\n",
        "      else:\n",
        "        continue\n",
        "  return -1\n",
        "\n",
        "\n",
        "def satisfy(word):\n",
        "  checked = []\n",
        "  satisfies = False\n",
        "  for i in list(word):\n",
        "    if i not in checked:\n",
        "      checked.append(i)\n",
        "  if len(checked) == len(list(word)):\n",
        "    satisfies = True\n",
        "    return satisfies\n",
        "  else:\n",
        "    return False\n",
        "\n",
        "\n",
        "substring('')\n",
        "\n"
      ]
    }
  ],
  "metadata": {
    "kernelspec": {
      "display_name": "Python 3 (ipykernel)",
      "language": "python",
      "name": "python3"
    },
    "language_info": {
      "codemirror_mode": {
        "name": "ipython",
        "version": 3
      },
      "file_extension": ".py",
      "mimetype": "text/x-python",
      "name": "python",
      "nbconvert_exporter": "python",
      "pygments_lexer": "ipython3",
      "version": "3.8.9"
    },
    "colab": {
      "provenance": []
    }
  },
  "nbformat": 4,
  "nbformat_minor": 5
}