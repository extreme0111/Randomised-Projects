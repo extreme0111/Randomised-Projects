{
  "nbformat": 4,
  "nbformat_minor": 5,
  "metadata": {
    "kernelspec": {
      "display_name": "Python 3",
      "language": "python",
      "name": "python3"
    },
    "language_info": {
      "codemirror_mode": {
        "name": "ipython",
        "version": 3
      },
      "file_extension": ".py",
      "mimetype": "text/x-python",
      "name": "python",
      "nbconvert_exporter": "python",
      "pygments_lexer": "ipython3",
      "version": "3.8.6"
    },
    "colab": {
      "provenance": []
    }
  },
  "cells": [
    {
      "cell_type": "markdown",
      "metadata": {
        "id": "medium-offset"
      },
      "source": [
        "Input 2 strings, return a string of the form short+long+short, with the shorter string on the outside and the longer string on the inside. The strings will not be the same length, but they may be empty ( zero length ).\n",
        "\n",
        "Example:\n",
        "```\n",
        "(\"1\", \"22\") --> \"1221\"\n",
        "(\"22\", \"1\") --> \"1221\"\n",
        "```"
      ],
      "id": "medium-offset"
    },
    {
      "cell_type": "code",
      "metadata": {
        "colab": {
          "base_uri": "https://localhost:8080/"
        },
        "id": "dressed-greeting",
        "outputId": "e154e127-394f-4fa8-8967-d607202b3ceb"
      },
      "source": [
        "def shortlong(string1, string2):\n",
        "  length1 = len(list(string1))\n",
        "  length2 = len(list(string2))\n",
        "  if length1 < length2:\n",
        "    print(string1 + string2 + string1)\n",
        "  else:\n",
        "    print(string2 + string1 + string2)\n",
        "\n",
        "shortlong('1','yeet')"
      ],
      "id": "dressed-greeting",
      "execution_count": null,
      "outputs": [
        {
          "output_type": "stream",
          "name": "stdout",
          "text": [
            "1yeet1\n"
          ]
        }
      ]
    },
    {
      "cell_type": "markdown",
      "metadata": {
        "id": "about-magnet"
      },
      "source": [
        "Check whether the string is a palindrome.\n",
        "\n",
        "A palindrome is a word, phrase, or sequence that reads the same backward as forwards. For example, the word- `madam`\n",
        "If you read it backward it will be madam as well. Similarly, eye, rotor, kayak, racecar, level, etc. are palindromes."
      ],
      "id": "about-magnet"
    },
    {
      "cell_type": "code",
      "metadata": {
        "colab": {
          "base_uri": "https://localhost:8080/"
        },
        "id": "loved-parts",
        "outputId": "37ac18af-b969-4b90-e87e-66481656146d"
      },
      "source": [
        "def check_pal(word):\n",
        "  length = len(list(word))\n",
        "  lengt = length - 1\n",
        "  if lengt %2 != 0:\n",
        "    even_a = word[0 : int((lengt / 2) + 1)]\n",
        "    even_b = word[int((lengt / 2) + 1) : ]\n",
        "    flipp_b = even_b[ : : -1]\n",
        "    if even_a == flipp_b:\n",
        "      print('yes, yes it is')\n",
        "    else:\n",
        "      print('no, no its not')\n",
        "  else:\n",
        "    a = word[0 : int(lengt / 2)]\n",
        "    b = word[int((lengt / 2) + 1) : ]\n",
        "    flip_b = b[ : : -1]\n",
        "    if a == flip_b:\n",
        "      print('yes, yes it is')\n",
        "\n",
        "\n",
        "check_pal('yeet')\n",
        "\n",
        "def check_pali(word2):\n",
        "  if word2 == word2[ : : -1]:\n",
        "    print('yes, yes it is')\n",
        "  else:\n",
        "    print('no, no it\"s not')\n",
        "\n",
        "check_pali('racecar')"
      ],
      "id": "loved-parts",
      "execution_count": null,
      "outputs": [
        {
          "output_type": "stream",
          "name": "stdout",
          "text": [
            "no, no its not\n",
            "yes, yes it is\n"
          ]
        }
      ]
    },
    {
      "cell_type": "markdown",
      "metadata": {
        "id": "durable-ocean"
      },
      "source": [
        "Create suitable classes such that running the code below will result in the desired output.\n",
        "\n",
        "Run this:\n",
        "\n",
        "```\n",
        "joe = Person('Joe')\n",
        "joe.greet('Kate')\n",
        "joe.name         \n",
        "```\n",
        "\n",
        "Output you should get:\n",
        "\n",
        "```\n",
        "Joe is born\n",
        "Hello Kate, my name is Joe\n",
        "Joe\n",
        "```"
      ],
      "id": "durable-ocean"
    },
    {
      "cell_type": "code",
      "metadata": {
        "colab": {
          "base_uri": "https://localhost:8080/",
          "height": 69
        },
        "id": "arranged-absence",
        "outputId": "806de4a1-1c9f-4698-8938-da28fdc10680"
      },
      "source": [
        "class Person:\n",
        "  def __init__(self, name):\n",
        "    self.name = name\n",
        "    print(self.name + ' is born')\n",
        "\n",
        "  def greet(self, other_person):\n",
        "    print('Hello ' + other_person + ', my name is ' + self.name)\n",
        "\n",
        "joe = Person('Joe')\n",
        "joe.greet('Kate')\n",
        "joe.name"
      ],
      "id": "arranged-absence",
      "execution_count": null,
      "outputs": [
        {
          "output_type": "stream",
          "name": "stdout",
          "text": [
            "Joe is born\n",
            "Hello Kate, my name is Joe\n"
          ]
        },
        {
          "output_type": "execute_result",
          "data": {
            "application/vnd.google.colaboratory.intrinsic+json": {
              "type": "string"
            },
            "text/plain": [
              "'Joe'"
            ]
          },
          "metadata": {},
          "execution_count": 33
        }
      ]
    },
    {
      "cell_type": "markdown",
      "metadata": {
        "id": "reserved-blade"
      },
      "source": [
        "Build a simple Rock paper Scissor game.\n",
        "\n",
        "You will write a lot of if-else. Think about it in a way that if the first player types rock, which one the second player should have picked to win the game. Otherwise, the second player will lose the game.\n"
      ],
      "id": "reserved-blade"
    },
    {
      "cell_type": "code",
      "metadata": {
        "id": "geographic-ordinance",
        "colab": {
          "base_uri": "https://localhost:8080/"
        },
        "outputId": "21924b31-dd19-4eaa-8579-f7c8e1cffb50"
      },
      "source": [
        "def rps(input1, input2):\n",
        "  choices = ['rock', 'paper', 'scissors']\n",
        "  if input1 == 'rock':\n",
        "    if input2 == 'paper':\n",
        "      print('player 2 won')\n",
        "    elif input2 == 'scissors':\n",
        "      print('player 1 won')\n",
        "    else:\n",
        "      print('tie')\n",
        "  if input1 == 'scissors':\n",
        "    if input2 == 'rock':\n",
        "      print('player 2 won')\n",
        "    elif input2 == 'paper':\n",
        "      print('player 1 won')\n",
        "    else:\n",
        "      print('tie')\n",
        "  if input1 == 'paper':\n",
        "    if input2 == 'scissors':\n",
        "      print('player 2 won')\n",
        "    elif input2 == 'rock':\n",
        "      print('player 1 won')\n",
        "    else:\n",
        "      print('tie')\n",
        "\n",
        "rps('paper', 'rock')"
      ],
      "id": "geographic-ordinance",
      "execution_count": null,
      "outputs": [
        {
          "output_type": "stream",
          "name": "stdout",
          "text": [
            "player 1 won\n"
          ]
        }
      ]
    },
    {
      "cell_type": "markdown",
      "metadata": {
        "id": "pressed-surgeon"
      },
      "source": [
        "Your method takes in 2 inputs: the search_text and the full_text. Write a solution so that it returns the number of times the search_text is found within the full_text.\n",
        "\n",
        "**The `search_text` always only has 2 characters and length of `full_text` will always be longer/equal to `search_text`**\n",
        "\n",
        "```\n",
        "solution('aa_bb_cc_dd_bb_e', 'bb') # should return 2\n",
        "solution('aaabbbcccc', 'bb') # should return 2\n",
        "```"
      ],
      "id": "pressed-surgeon"
    },
    {
      "cell_type": "code",
      "metadata": {
        "id": "charming-emphasis",
        "colab": {
          "base_uri": "https://localhost:8080/"
        },
        "outputId": "295fd7f3-d0c5-459c-cf9f-834942e71b85"
      },
      "source": [
        "def solution(full_text, search_text):\n",
        "  appearances = 0\n",
        "  for i in range(len(full_text)):\n",
        "    let1 = full_text[i]\n",
        "    if i + 1 == len(full_text):\n",
        "      break\n",
        "    let2 = full_text[i+1]\n",
        "    if let1 + let2 == search_text:\n",
        "      appearances += 1\n",
        "  print(appearances)\n",
        "  #for i in full_text[1::2]:\n",
        "    #if i == search_text:\n",
        "      #appearances += 1\n",
        "  print(full_text.count(search_text))\n",
        "solution('aaabcccc', 'abc')\n",
        "\n",
        "\n"
      ],
      "id": "charming-emphasis",
      "execution_count": null,
      "outputs": [
        {
          "output_type": "stream",
          "name": "stdout",
          "text": [
            "0\n",
            "1\n"
          ]
        }
      ]
    }
  ]
}