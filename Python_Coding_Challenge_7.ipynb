{
  "cells": [
    {
      "cell_type": "markdown",
      "id": "c37ce696",
      "metadata": {
        "id": "c37ce696"
      },
      "source": [
        "## Strip Python comments\n",
        "\n",
        "Create a function that strips all comments. Whitespaces at the end of the line should also be stripped.\n",
        "\n",
        "Given an example input string\n",
        "\n",
        "```\n",
        "money, paper # and bananas\n",
        "dollar\n",
        "billz  #another comment\n",
        "#and another comment\n",
        "```\n",
        "\n",
        "OUTPUT:\n",
        "\n",
        "```\n",
        "money, paper\n",
        "dollar\n",
        "billz\n",
        "```\n",
        "\n",
        "\n",
        "Use this string for testing: `\"money, paper # and bananas \\ndollar\\nbillz  #another comment\"`"
      ]
    },
    {
      "cell_type": "code",
      "execution_count": null,
      "id": "5a31e779",
      "metadata": {
        "colab": {
          "base_uri": "https://localhost:8080/"
        },
        "id": "5a31e779",
        "outputId": "bb2907be-34c1-4ab5-becd-9845343d5289"
      },
      "outputs": [
        {
          "output_type": "stream",
          "name": "stdout",
          "text": [
            "['money, paper # and bananas ', 'dollar', 'billz #another comment']\n",
            "['money, paper ', 'dollar', 'billz ']\n",
            "money, paper\n",
            "dollar\n",
            "billz\n"
          ]
        }
      ],
      "source": [
        "comment = 'money, paper # and bananas \\ndollar\\nbillz #another comment'\n",
        "\n",
        "def removecomms(comment):\n",
        "  comment = comment.split('\\n')\n",
        "  print(comment)\n",
        "  throw = ''\n",
        "  throwlist = []\n",
        "  for i in comment:\n",
        "    if throw != '':\n",
        "      for k in range(len(list(throw))-1, 0, -1):\n",
        "        if list(throw)[k] != ' ':\n",
        "          throw = throw[0:k+1]\n",
        "        break\n",
        "      throwlist.append(throw)\n",
        "      throw = ''\n",
        "    for j in list(i):\n",
        "      if j != '#':\n",
        "        throw += j\n",
        "      else:\n",
        "        break\n",
        "  if throw != '':\n",
        "    for k in range(len(list(throw))-1, 0, -1):\n",
        "      if list(throw)[k] != ' ':\n",
        "        throw = throw[0:k+1]\n",
        "      break\n",
        "    throwlist.append(throw)\n",
        "    throw = ''\n",
        "  print(throwlist)\n",
        "  for idx, value in enumerate(throwlist):\n",
        "    throwlist[idx] = value.strip()\n",
        "  return print('\\n'.join(throwlist))\n",
        "removecomms(comment)"
      ]
    },
    {
      "cell_type": "markdown",
      "id": "8e1b0595",
      "metadata": {
        "id": "8e1b0595"
      },
      "source": [
        "## Sudoku solution checker\n",
        "\n",
        "Sudoku is a game played on a 9x9 grid. Goal of the game is to fill all cells of the grid with digits from 1 to 9, so that *each column*, *each row*, and *each of the nine 3x3 subgrids* contain all of the digits from 1 to 9.\n",
        "\n",
        "\n",
        "Write a function that takes in a 2D array (represents Sudoku board). Return `true` if is valid solution and `false`.\n",
        "\n",
        "** check that the board does not contain numbers that are not 1-9\n",
        "\n",
        "\n",
        "Example 1:\n",
        "```\n",
        "[\n",
        "  [5, 3, 4, 6, 7, 8, 9, 1, 2],\n",
        "  [6, 7, 2, 1, 9, 5, 3, 4, 8],\n",
        "  [1, 9, 8, 3, 4, 2, 5, 6, 7],\n",
        "  [8, 5, 9, 7, 6, 1, 4, 2, 3],\n",
        "  [4, 2, 6, 8, 5, 3, 7, 9, 1],\n",
        "  [7, 1, 3, 9, 2, 4, 8, 5, 6],\n",
        "  [9, 6, 1, 5, 3, 7, 2, 8, 4],\n",
        "  [2, 8, 7, 4, 1, 9, 6, 3, 5],\n",
        "  [3, 4, 5, 2, 8, 6, 1, 7, 9]\n",
        "]\n",
        "```\n",
        "\n",
        "Returns `true`\n",
        "\n",
        "Example 2:\n",
        "```\n",
        "[\n",
        "  [5, 3, 4, 6, 7, 8, 9, 1, 2],\n",
        "  [6, 7, 2, 1, 9, 0, 3, 4, 8],\n",
        "  [1, 0, 0, 3, 4, 2, 5, 6, 0],\n",
        "  [8, 5, 9, 7, 6, 1, 0, 2, 0],\n",
        "  [4, 2, 6, 8, 5, 3, 7, 9, 1],\n",
        "  [7, 1, 3, 9, 2, 4, 8, 5, 6],\n",
        "  [9, 0, 1, 5, 3, 7, 2, 1, 4],\n",
        "  [2, 8, 7, 4, 1, 9, 6, 3, 5],\n",
        "  [3, 0, 0, 4, 8, 1, 1, 7, 9]\n",
        "]\n",
        "```\n",
        "\n",
        "Returns `false`"
      ]
    },
    {
      "cell_type": "code",
      "execution_count": null,
      "id": "9fad67d1",
      "metadata": {
        "id": "9fad67d1",
        "colab": {
          "base_uri": "https://localhost:8080/"
        },
        "outputId": "623ad40c-8238-4710-d9d5-6ebbf86a9a3a"
      },
      "outputs": [
        {
          "output_type": "execute_result",
          "data": {
            "text/plain": [
              "False"
            ]
          },
          "metadata": {},
          "execution_count": 11
        }
      ],
      "source": [
        "array = [\n",
        "  [5, 3, 4, 6, 7, 8, 9, 1, 2],\n",
        "  [6, 7, 2, 1, 9, 5, 3, 4, 8],\n",
        "  [1, 9, 8, 3, 4, 2, 5, 6, 7],\n",
        "  [8, 5, 9, 7, 6, 1, 4, 2, 3],\n",
        "  [4, 2, 6, 8, 5, 3, 7, 9, 1],\n",
        "  [7, 1, 3, 9, 2, 4, 5, 5, 6],\n",
        "  [9, 6, 1, 5, 3, 7, 2, 8, 4],\n",
        "  [2, 8, 7, 4, 1, 9, 6, 3, 5],\n",
        "  [3, 4, 5, 2, 8, 6, 1, 7, 9]\n",
        "]\n",
        "\n",
        "def sudokucheck(array):\n",
        "  for i in array:\n",
        "    for j in i:\n",
        "      if str(j).isnumeric() == False or j == 0 or j > 9 or j % 1 != 0:\n",
        "        return False\n",
        "  #row\n",
        "  check = []\n",
        "  for i in array:\n",
        "    for j in i:\n",
        "      if j not in check:\n",
        "        check.append(j)\n",
        "      else:\n",
        "        return False\n",
        "    check = []\n",
        "  check = []\n",
        "  #column\n",
        "  for k in range(9):\n",
        "    for row in array:\n",
        "      if row[k] not in check:\n",
        "        check.append(row[k])\n",
        "      else:\n",
        "        return False\n",
        "    check = []\n",
        "  check = []\n",
        "  #box\n",
        "  count = [0,2]\n",
        "  for k in range(3):\n",
        "    for i in array[0:2]:\n",
        "      for j in i[count[0]:count[1]]:\n",
        "        if j not in check:\n",
        "          check.append(j)\n",
        "        else:\n",
        "          return False\n",
        "    check = []\n",
        "  count[0] += 3\n",
        "  count[1] += 3\n",
        "  for k in range(3):\n",
        "    for i in array[count[0]:count[1]]:\n",
        "      for j in i[count[0]:count[1]]:\n",
        "        if j not in check:\n",
        "          check.append(j)\n",
        "        else:\n",
        "          return False\n",
        "    check = []\n",
        "  count[0] += 3\n",
        "  count[1] += 3\n",
        "  for k in range(3):\n",
        "    for i in array[count[0]:count[1]]:\n",
        "      for j in i[count[0]:count[1]]:\n",
        "        if j not in check:\n",
        "          check.append(j)\n",
        "        else:\n",
        "          return False\n",
        "    check = []\n",
        "  return True\n",
        "\n",
        "sudokucheck(array)"
      ]
    }
  ],
  "metadata": {
    "kernelspec": {
      "display_name": "Python 3 (ipykernel)",
      "language": "python",
      "name": "python3"
    },
    "language_info": {
      "codemirror_mode": {
        "name": "ipython",
        "version": 3
      },
      "file_extension": ".py",
      "mimetype": "text/x-python",
      "name": "python",
      "nbconvert_exporter": "python",
      "pygments_lexer": "ipython3",
      "version": "3.8.9"
    },
    "colab": {
      "provenance": []
    }
  },
  "nbformat": 4,
  "nbformat_minor": 5
}