{
  "nbformat": 4,
  "nbformat_minor": 5,
  "metadata": {
    "kernelspec": {
      "display_name": "Python 3",
      "language": "python",
      "name": "python3"
    },
    "language_info": {
      "codemirror_mode": {
        "name": "ipython",
        "version": 3
      },
      "file_extension": ".py",
      "mimetype": "text/x-python",
      "name": "python",
      "nbconvert_exporter": "python",
      "pygments_lexer": "ipython3",
      "version": "3.8.6"
    },
    "colab": {
      "provenance": []
    }
  },
  "cells": [
    {
      "cell_type": "markdown",
      "metadata": {
        "id": "innovative-things"
      },
      "source": [
        "Write a Python program to construct the following pattern.\n",
        "\n",
        "```\n",
        "1                                                                                                             \n",
        "22                                                                                                            \n",
        "333                                                                                                           \n",
        "4444                                                                                                          \n",
        "55555                                                                                                         \n",
        "666666                                                                                                        \n",
        "7777777                                                                                                       \n",
        "88888888                                                                                                      \n",
        "999999999\n",
        "```\n",
        "\n",
        "After you're done, try to achieve this with only 2 lines of code (if you haven't already).\n",
        "\n"
      ],
      "id": "innovative-things"
    },
    {
      "cell_type": "code",
      "metadata": {
        "colab": {
          "base_uri": "https://localhost:8080/"
        },
        "id": "stopped-british",
        "outputId": "3888bd2c-9fbc-4659-efd6-002ff5943ce1"
      },
      "source": [
        "def one_():\n",
        "  print('1 \\n22 \\n333 \\n4444 \\n55555 \\n666666 \\n7777777 \\n88888888 \\n999999999')\n",
        "\n",
        "\n",
        "def two_():\n",
        "  number = 1\n",
        "  counter = 0\n",
        "  while counter < 9:\n",
        "    print(str(number) * number)\n",
        "    counter += 1\n",
        "    number += 1\n",
        "\n",
        "def three_():\n",
        "  for number in range(1, 10, 1):\n",
        "    print(str(number) * number)\n",
        "\n",
        "three_()"
      ],
      "id": "stopped-british",
      "execution_count": null,
      "outputs": [
        {
          "output_type": "stream",
          "name": "stdout",
          "text": [
            "1\n",
            "22\n",
            "333\n",
            "4444\n",
            "55555\n",
            "666666\n",
            "7777777\n",
            "88888888\n",
            "999999999\n"
          ]
        }
      ]
    },
    {
      "cell_type": "markdown",
      "metadata": {
        "id": "intense-enterprise"
      },
      "source": [
        "Write a Python program to construct the following pattern, using nested for loops.\n",
        "\n",
        "```\n",
        "*\n",
        "* *\n",
        "* * *\n",
        "* * * *\n",
        "* * * * *\n",
        "* * * *\n",
        "* * *\n",
        "* *\n",
        "*\n",
        "```"
      ],
      "id": "intense-enterprise"
    },
    {
      "cell_type": "code",
      "metadata": {
        "colab": {
          "base_uri": "https://localhost:8080/"
        },
        "id": "invalid-redhead",
        "outputId": "f61ce9e8-8cf5-47dd-dffa-dc74fb9cc596"
      },
      "source": [
        "def stars():\n",
        "  for star in range(1, 6, 1):\n",
        "    print('*' * star)\n",
        "    for stars in range(1, 0, -1):\n",
        "      #print('*' * stars)\n",
        "      pass\n",
        "  for starss in range(4, 0, -1):\n",
        "    print('*' * starss)\n",
        "\n",
        "stars()"
      ],
      "id": "invalid-redhead",
      "execution_count": null,
      "outputs": [
        {
          "output_type": "stream",
          "name": "stdout",
          "text": [
            "*\n",
            "**\n",
            "***\n",
            "****\n",
            "*****\n",
            "****\n",
            "***\n",
            "**\n",
            "*\n"
          ]
        }
      ]
    },
    {
      "cell_type": "markdown",
      "metadata": {
        "id": "informative-pledge"
      },
      "source": [
        "Write a Python program to count the number of even and odd numbers from a list of numbers.\n",
        "\n",
        "Example input:\n",
        "`[1, 2, 3, 4, 5, 6, 7, 8, 9]`\n",
        "\n",
        "Output:\n",
        "```\n",
        "Even: 4\n",
        "Odd: 5\n",
        "```"
      ],
      "id": "informative-pledge"
    },
    {
      "cell_type": "code",
      "metadata": {
        "colab": {
          "base_uri": "https://localhost:8080/"
        },
        "id": "electronic-selling",
        "outputId": "d431cbff-b2a8-437c-b0db-15c5d77923c9"
      },
      "source": [
        "num_list = [1, 2, 3, 4, 5, 6, 7, 8, 9]\n",
        "\n",
        "def o_or_e(num_list):\n",
        "  even = 0\n",
        "  odd = 0\n",
        "  for num in num_list:\n",
        "    if num % 2 == 0:\n",
        "      even += 1\n",
        "    else:\n",
        "      odd += 1\n",
        "  print('Even: ' + str(even) + '\\nOdd: ' + str(odd))\n",
        "\n",
        "o_or_e(num_list)"
      ],
      "id": "electronic-selling",
      "execution_count": null,
      "outputs": [
        {
          "output_type": "stream",
          "name": "stdout",
          "text": [
            "Even: 4\n",
            "Odd: 5\n"
          ]
        }
      ]
    },
    {
      "cell_type": "markdown",
      "metadata": {
        "id": "waiting-clear"
      },
      "source": [
        "Write a Python program to check the validity of password input by users. Password has to meet all these requirements.\n",
        "\n",
        "- At least 1 lowercase letter and 1 uppercase letter.\n",
        "- At least 1 number between `[0-9]`.\n",
        "- At least 1 character from `[$#@]`.\n",
        "- Minimum length 6 characters.\n",
        "- Maximum length 16 characters.\n",
        "\n",
        "For every invalid password, print out the missing requirements.\n"
      ],
      "id": "waiting-clear"
    },
    {
      "cell_type": "code",
      "metadata": {
        "colab": {
          "base_uri": "https://localhost:8080/"
        },
        "id": "smart-chrome",
        "outputId": "712132b7-71ea-4aad-a1eb-205b584ec9bb"
      },
      "source": [
        "import string\n",
        "sletter_list = list(string.ascii_lowercase)\n",
        "uletter_list = list(string.ascii_uppercase)\n",
        "symbols = ['$', '#', '@']\n",
        "\n",
        "def check_pw(password):\n",
        "  has_small_letter = False\n",
        "  has_large_letter = False\n",
        "  has_number = False\n",
        "  has_symbol = False\n",
        "  missing_req = []\n",
        "  counter = 0\n",
        "  for char in password:\n",
        "    if char in sletter_list:\n",
        "      has_small_letter = True\n",
        "    elif char in uletter_list:\n",
        "      has_large_letter = True\n",
        "  if not has_small_letter or not has_large_letter:\n",
        "    missing_req.append('Password must contain at least 1 lowercase letter and 1 uppercase letter.')\n",
        "  for charr in password:\n",
        "    if charr.isdigit():\n",
        "      has_number = True\n",
        "  if has_number == False:\n",
        "    missing_req.append('Password must contain at least 1 number between 0-9')\n",
        "  for char in password:\n",
        "    if char in symbols:\n",
        "      has_symbol = True\n",
        "  if has_symbol == False:\n",
        "    missing_req.append('Password must contain at least 1 symbol ($, #, @)')\n",
        "  string_min = len(password)\n",
        "  if string_min < 6:\n",
        "    missing_req.append('Password must be of minimum length 6 characters')\n",
        "  string_max = len(password)\n",
        "  if string_max > 16:\n",
        "    missing_req.append('Password must be of maximum length 16 characters')\n",
        "  if len(missing_req) == 0:\n",
        "    print('Password is valid')\n",
        "  else:\n",
        "    print(missing_req)\n",
        "\n",
        "\n",
        "check_pw('aA1111#')\n",
        "\n",
        "\n",
        "def check_pw_v2(password):\n",
        "  has_small_letter = False\n",
        "  has_large_letter = False\n",
        "  has_number = False\n",
        "  has_symbol = False\n",
        "  missing_req = []\n",
        "  for char in password:\n",
        "    if char in sletter_list:\n",
        "      has_small_letter = True\n",
        "    elif char in uletter_list:\n",
        "      has_large_letter = True\n",
        "    if char.isdigit():\n",
        "      has_number = True\n",
        "    if char in symbols:\n",
        "      has_symbol = True\n",
        "  string_min = len(password)\n",
        "  if string_min < 6:\n",
        "    missing_req.append('Password must be of minimum length 6 characters')\n",
        "  string_max = len(password)\n",
        "  if string_max > 16:\n",
        "    missing_req.append('Password must be of maximum length 16 characters')\n",
        "  if not has_small_letter or not has_large_letter:\n",
        "    missing_req.append('Password must contain at least 1 lowercase letter and 1 uppercase letter.')\n",
        "  if has_number == False:\n",
        "    missing_req.append('Password must contain at least 1 number between 0-9')\n",
        "  if has_symbol == False:\n",
        "    missing_req.append('Password must contain at least 1 symbol ($, #, @)')\n",
        "  if len(missing_req) == 0:\n",
        "    print('Password is valid')\n",
        "  else:\n",
        "    print(missing_req)\n",
        "\n",
        "\n",
        "check_pw_v2('aA1111#')"
      ],
      "id": "smart-chrome",
      "execution_count": null,
      "outputs": [
        {
          "output_type": "stream",
          "name": "stdout",
          "text": [
            "Password is valid\n",
            "Password is valid\n"
          ]
        }
      ]
    },
    {
      "cell_type": "markdown",
      "metadata": {
        "id": "historical-tension"
      },
      "source": [
        "Write a Python program to check if a triangle is equilateral, isosceles or scalene. The inputs will be the lengths of each side of the triangle.\n",
        "\n",
        "An equilateral triangle is a triangle in which all three sides are equal.\n",
        "A scalene triangle is a triangle that has three unequal sides.\n",
        "An isosceles triangle is a triangle with (at least) two equal sides.\n",
        "\n",
        "Example:\n",
        "\n",
        "`(6, 8, 12)  -> Scalene triangle`"
      ],
      "id": "historical-tension"
    },
    {
      "cell_type": "code",
      "metadata": {
        "id": "fuzzy-behavior",
        "colab": {
          "base_uri": "https://localhost:8080/"
        },
        "outputId": "cd6f0de0-a64d-4cce-9916-815898d2ddac"
      },
      "source": [
        "def math_be_like(side1, side2, side3):\n",
        "  if side1 == side2 and side1 == side3:\n",
        "    print('equilateral triangle')\n",
        "  if side1 == side2 or side1 == side3 or side2 == side3:\n",
        "    print('isoceles triangle')\n",
        "  else:\n",
        "    print('scalene triangle')\n",
        "\n",
        "math_be_like(1,2,3)"
      ],
      "id": "fuzzy-behavior",
      "execution_count": null,
      "outputs": [
        {
          "output_type": "stream",
          "name": "stdout",
          "text": [
            "scalene triangle\n"
          ]
        }
      ]
    },
    {
      "cell_type": "markdown",
      "metadata": {
        "id": "packed-float"
      },
      "source": [
        "Write a function which returns the number of words in a string that start with a certain alphabet. (Make sure it counts lower case a's as well.)\n",
        "\n",
        "Your function should accept 2 inputs: `sentence` and `alphabet`\n",
        "\n",
        "Use this sentence to test:\n",
        "```\n",
        "Acres of almond trees lined the interstate highway which complimented the crazy driving at school.\n",
        "```\n"
      ],
      "id": "packed-float"
    },
    {
      "cell_type": "code",
      "metadata": {
        "id": "extraordinary-bidding",
        "colab": {
          "base_uri": "https://localhost:8080/"
        },
        "outputId": "3eff5e67-543d-4088-bc0f-ac94f442dd5d"
      },
      "source": [
        "def alphabeter(sentence, alphabet):\n",
        "  counter = 0\n",
        "  downer = sentence.lower()\n",
        "  splitter = downer.split(' ')\n",
        "  for word in splitter:\n",
        "      if word[0] == alphabet:\n",
        "        counter += 1\n",
        "  print(counter)\n",
        "alphabeter('Acres of almond trees lined the interstate highway which complimented the crazy driving at school.', 't')"
      ],
      "id": "extraordinary-bidding",
      "execution_count": null,
      "outputs": [
        {
          "output_type": "stream",
          "name": "stdout",
          "text": [
            "3\n"
          ]
        }
      ]
    }
  ]
}